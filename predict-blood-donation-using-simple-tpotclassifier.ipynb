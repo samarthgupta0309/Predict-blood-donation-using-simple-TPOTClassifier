{
 "cells": [
  {
   "cell_type": "markdown",
   "id": "chicken-birmingham",
   "metadata": {
    "papermill": {
     "duration": 0.010756,
     "end_time": "2021-04-15T13:31:49.661025",
     "exception": false,
     "start_time": "2021-04-15T13:31:49.650269",
     "status": "completed"
    },
    "tags": []
   },
   "source": [
    "# Predict whether the person donated blood or Not \n",
    "**This notebook gives simple steps to use TPOTClassifier**\n"
   ]
  },
  {
   "cell_type": "code",
   "execution_count": 1,
   "id": "given-father",
   "metadata": {
    "_cell_guid": "b1076dfc-b9ad-4769-8c92-a6c4dae69d19",
    "_uuid": "8f2839f25d086af736a60e9eeb907d3b93b6e0e5",
    "execution": {
     "iopub.execute_input": "2021-04-15T13:31:49.683317Z",
     "iopub.status.busy": "2021-04-15T13:31:49.682164Z",
     "iopub.status.idle": "2021-04-15T13:31:49.694287Z",
     "shell.execute_reply": "2021-04-15T13:31:49.695151Z"
    },
    "papermill": {
     "duration": 0.025369,
     "end_time": "2021-04-15T13:31:49.695555",
     "exception": false,
     "start_time": "2021-04-15T13:31:49.670186",
     "status": "completed"
    },
    "tags": []
   },
   "outputs": [
    {
     "name": "stdout",
     "output_type": "stream",
     "text": [
      "/kaggle/input/blood-transfusion/transfusion.data\n"
     ]
    }
   ],
   "source": [
    "\n",
    "import numpy as np # linear algebra\n",
    "import pandas as pd # data processing, CSV file I/O (e.g. pd.read_csv)\n",
    "\n",
    "\n",
    "import os\n",
    "for dirname, _, filenames in os.walk('/kaggle/input'):\n",
    "    for filename in filenames:\n",
    "        print(os.path.join(dirname, filename))"
   ]
  },
  {
   "cell_type": "code",
   "execution_count": 2,
   "id": "agreed-bowling",
   "metadata": {
    "execution": {
     "iopub.execute_input": "2021-04-15T13:31:49.719554Z",
     "iopub.status.busy": "2021-04-15T13:31:49.718917Z",
     "iopub.status.idle": "2021-04-15T13:31:49.760774Z",
     "shell.execute_reply": "2021-04-15T13:31:49.761303Z"
    },
    "papermill": {
     "duration": 0.05563,
     "end_time": "2021-04-15T13:31:49.761495",
     "exception": false,
     "start_time": "2021-04-15T13:31:49.705865",
     "status": "completed"
    },
    "tags": []
   },
   "outputs": [
    {
     "data": {
      "text/html": [
       "<div>\n",
       "<style scoped>\n",
       "    .dataframe tbody tr th:only-of-type {\n",
       "        vertical-align: middle;\n",
       "    }\n",
       "\n",
       "    .dataframe tbody tr th {\n",
       "        vertical-align: top;\n",
       "    }\n",
       "\n",
       "    .dataframe thead th {\n",
       "        text-align: right;\n",
       "    }\n",
       "</style>\n",
       "<table border=\"1\" class=\"dataframe\">\n",
       "  <thead>\n",
       "    <tr style=\"text-align: right;\">\n",
       "      <th></th>\n",
       "      <th>Recency (months)</th>\n",
       "      <th>Frequency (times)</th>\n",
       "      <th>Monetary (c.c. blood)</th>\n",
       "      <th>Time (months)</th>\n",
       "      <th>whether he/she donated blood in March 2007</th>\n",
       "    </tr>\n",
       "  </thead>\n",
       "  <tbody>\n",
       "    <tr>\n",
       "      <th>0</th>\n",
       "      <td>2</td>\n",
       "      <td>50</td>\n",
       "      <td>12500</td>\n",
       "      <td>98</td>\n",
       "      <td>1</td>\n",
       "    </tr>\n",
       "    <tr>\n",
       "      <th>1</th>\n",
       "      <td>0</td>\n",
       "      <td>13</td>\n",
       "      <td>3250</td>\n",
       "      <td>28</td>\n",
       "      <td>1</td>\n",
       "    </tr>\n",
       "    <tr>\n",
       "      <th>2</th>\n",
       "      <td>1</td>\n",
       "      <td>16</td>\n",
       "      <td>4000</td>\n",
       "      <td>35</td>\n",
       "      <td>1</td>\n",
       "    </tr>\n",
       "    <tr>\n",
       "      <th>3</th>\n",
       "      <td>2</td>\n",
       "      <td>20</td>\n",
       "      <td>5000</td>\n",
       "      <td>45</td>\n",
       "      <td>1</td>\n",
       "    </tr>\n",
       "    <tr>\n",
       "      <th>4</th>\n",
       "      <td>1</td>\n",
       "      <td>24</td>\n",
       "      <td>6000</td>\n",
       "      <td>77</td>\n",
       "      <td>0</td>\n",
       "    </tr>\n",
       "  </tbody>\n",
       "</table>\n",
       "</div>"
      ],
      "text/plain": [
       "   Recency (months)  Frequency (times)  Monetary (c.c. blood)  Time (months)  \\\n",
       "0                 2                 50                  12500             98   \n",
       "1                 0                 13                   3250             28   \n",
       "2                 1                 16                   4000             35   \n",
       "3                 2                 20                   5000             45   \n",
       "4                 1                 24                   6000             77   \n",
       "\n",
       "   whether he/she donated blood in March 2007  \n",
       "0                                           1  \n",
       "1                                           1  \n",
       "2                                           1  \n",
       "3                                           1  \n",
       "4                                           0  "
      ]
     },
     "execution_count": 2,
     "metadata": {},
     "output_type": "execute_result"
    }
   ],
   "source": [
    "\n",
    "transfusion = pd.read_csv('../input/blood-transfusion/transfusion.data')\n",
    "\n",
    "transfusion.head()"
   ]
  },
  {
   "cell_type": "markdown",
   "id": "simplified-redhead",
   "metadata": {
    "papermill": {
     "duration": 0.009851,
     "end_time": "2021-04-15T13:31:49.781239",
     "exception": false,
     "start_time": "2021-04-15T13:31:49.771388",
     "status": "completed"
    },
    "tags": []
   },
   "source": [
    "**According to data description**\n",
    "- R (Recency - months since the last donation)\n",
    "- F (Frequency - total number of donation)\n",
    "- M (Monetary - total blood donated in c.c.)\n",
    "- T (Time - months since the first donation)\n",
    "- a binary variable representing whether he/she donated blood in March 2007 (1 stands for donating blood; 0 stands for not donating blood) basically the target column"
   ]
  },
  {
   "cell_type": "code",
   "execution_count": 3,
   "id": "numerical-harvard",
   "metadata": {
    "execution": {
     "iopub.execute_input": "2021-04-15T13:31:49.805784Z",
     "iopub.status.busy": "2021-04-15T13:31:49.805076Z",
     "iopub.status.idle": "2021-04-15T13:31:49.811045Z",
     "shell.execute_reply": "2021-04-15T13:31:49.810411Z"
    },
    "papermill": {
     "duration": 0.019091,
     "end_time": "2021-04-15T13:31:49.811185",
     "exception": false,
     "start_time": "2021-04-15T13:31:49.792094",
     "status": "completed"
    },
    "tags": []
   },
   "outputs": [],
   "source": [
    "transfusion = transfusion.rename(columns={'whether he/she donated blood in March 2007': 'target'})"
   ]
  },
  {
   "cell_type": "markdown",
   "id": "matched-mount",
   "metadata": {
    "papermill": {
     "duration": 0.010304,
     "end_time": "2021-04-15T13:31:49.832172",
     "exception": false,
     "start_time": "2021-04-15T13:31:49.821868",
     "status": "completed"
    },
    "tags": []
   },
   "source": [
    "So `target` says\n",
    "- 0 - the donor will not give blood\n",
    "- 1 - the donor will give blood\n"
   ]
  },
  {
   "cell_type": "code",
   "execution_count": 4,
   "id": "weekly-testing",
   "metadata": {
    "execution": {
     "iopub.execute_input": "2021-04-15T13:31:49.860064Z",
     "iopub.status.busy": "2021-04-15T13:31:49.858419Z",
     "iopub.status.idle": "2021-04-15T13:31:49.890170Z",
     "shell.execute_reply": "2021-04-15T13:31:49.890644Z"
    },
    "papermill": {
     "duration": 0.048135,
     "end_time": "2021-04-15T13:31:49.890851",
     "exception": false,
     "start_time": "2021-04-15T13:31:49.842716",
     "status": "completed"
    },
    "tags": []
   },
   "outputs": [
    {
     "data": {
      "text/plain": [
       "0    0.762\n",
       "1    0.238\n",
       "Name: target, dtype: float64"
      ]
     },
     "execution_count": 4,
     "metadata": {},
     "output_type": "execute_result"
    }
   ],
   "source": [
    "# checking if the data is balanced by target incidence method\n",
    "transfusion.target.value_counts(normalize=True).round(3)"
   ]
  },
  {
   "cell_type": "markdown",
   "id": "naughty-letters",
   "metadata": {
    "papermill": {
     "duration": 0.010501,
     "end_time": "2021-04-15T13:31:49.911588",
     "exception": false,
     "start_time": "2021-04-15T13:31:49.901087",
     "status": "completed"
    },
    "tags": []
   },
   "source": [
    "Here 0 have target incidence of .76. Data is imbalanced so we would use stratify on target column while splitting "
   ]
  },
  {
   "cell_type": "code",
   "execution_count": 5,
   "id": "incredible-mining",
   "metadata": {
    "execution": {
     "iopub.execute_input": "2021-04-15T13:31:49.935609Z",
     "iopub.status.busy": "2021-04-15T13:31:49.934953Z",
     "iopub.status.idle": "2021-04-15T13:31:51.064707Z",
     "shell.execute_reply": "2021-04-15T13:31:51.063638Z"
    },
    "papermill": {
     "duration": 1.142985,
     "end_time": "2021-04-15T13:31:51.064881",
     "exception": false,
     "start_time": "2021-04-15T13:31:49.921896",
     "status": "completed"
    },
    "tags": []
   },
   "outputs": [],
   "source": [
    "from sklearn.model_selection import train_test_split\n",
    "\n",
    "X_train, X_test, y_train, y_test = train_test_split(transfusion.drop(columns='target'), transfusion.target, test_size=0.25,\n",
    "    random_state=7,\n",
    "    stratify=transfusion.target)"
   ]
  },
  {
   "cell_type": "code",
   "execution_count": 6,
   "id": "lovely-documentation",
   "metadata": {
    "execution": {
     "iopub.execute_input": "2021-04-15T13:31:51.093082Z",
     "iopub.status.busy": "2021-04-15T13:31:51.092071Z",
     "iopub.status.idle": "2021-04-15T13:31:51.097286Z",
     "shell.execute_reply": "2021-04-15T13:31:51.096712Z"
    },
    "papermill": {
     "duration": 0.022113,
     "end_time": "2021-04-15T13:31:51.097456",
     "exception": false,
     "start_time": "2021-04-15T13:31:51.075343",
     "status": "completed"
    },
    "tags": []
   },
   "outputs": [
    {
     "name": "stdout",
     "output_type": "stream",
     "text": [
      "(561, 4) (187, 4) (561,) (187,)\n"
     ]
    }
   ],
   "source": [
    "print(X_train.shape, X_test.shape, y_train.shape, y_test.shape)"
   ]
  },
  {
   "cell_type": "markdown",
   "id": "embedded-hudson",
   "metadata": {
    "papermill": {
     "duration": 0.012557,
     "end_time": "2021-04-15T13:31:51.122896",
     "exception": false,
     "start_time": "2021-04-15T13:31:51.110339",
     "status": "completed"
    },
    "tags": []
   },
   "source": [
    "TPOT is a Python Automated Machine Learning tool that optimizes machine learning pipelines using genetic programming. TPOT will automatically explore hundreds of possible pipelines to find the best one for our dataset. Note, the outcome of this search will be a scikit-learn pipeline, meaning it will include any pre-processing steps as well as the model.\n",
    "\n",
    "reference : http://epistasislab.github.io/tpot/\n",
    "\n",
    " https://machinelearningmastery.com/tpot-for-automated-machine-learning-in-python/"
   ]
  },
  {
   "cell_type": "code",
   "execution_count": 7,
   "id": "cleared-expression",
   "metadata": {
    "execution": {
     "iopub.execute_input": "2021-04-15T13:31:51.149796Z",
     "iopub.status.busy": "2021-04-15T13:31:51.148794Z",
     "iopub.status.idle": "2021-04-15T13:32:10.081909Z",
     "shell.execute_reply": "2021-04-15T13:32:10.082374Z"
    },
    "papermill": {
     "duration": 18.948391,
     "end_time": "2021-04-15T13:32:10.082563",
     "exception": false,
     "start_time": "2021-04-15T13:31:51.134172",
     "status": "completed"
    },
    "tags": []
   },
   "outputs": [
    {
     "data": {
      "application/vnd.jupyter.widget-view+json": {
       "model_id": "d3724cfaabeb45b6836702dd1c65cd59",
       "version_major": 2,
       "version_minor": 0
      },
      "text/plain": [
       "Optimization Progress:   0%|          | 0/220 [00:00<?, ?pipeline/s]"
      ]
     },
     "metadata": {},
     "output_type": "display_data"
    },
    {
     "name": "stdout",
     "output_type": "stream",
     "text": [
      "\n",
      "Generation 1 - Current best internal CV score: 0.7428330234896582\n",
      "\n",
      "Generation 2 - Current best internal CV score: 0.7428330234896582\n",
      "\n",
      "Generation 3 - Current best internal CV score: 0.7428330234896582\n",
      "\n",
      "Generation 4 - Current best internal CV score: 0.7428330234896582\n",
      "\n",
      "Generation 5 - Current best internal CV score: 0.7451120698726719\n",
      "\n",
      "Generation 6 - Current best internal CV score: 0.7451120698726719\n",
      "\n",
      "Generation 7 - Current best internal CV score: 0.7451120698726719\n",
      "\n",
      "Generation 8 - Current best internal CV score: 0.7451120698726719\n",
      "\n",
      "Generation 9 - Current best internal CV score: 0.7451120698726719\n",
      "\n",
      "Generation 10 - Current best internal CV score: 0.7471714195517205\n",
      "\n",
      "Best pipeline: LogisticRegression(MultinomialNB(input_matrix, alpha=0.01, fit_prior=True), C=0.5, dual=False, penalty=l2)\n",
      "\n",
      "AUC score: 0.7768\n",
      "\n",
      "Best pipeline steps:\n",
      "1. StackingEstimator(estimator=MultinomialNB(alpha=0.01))\n",
      "2. LogisticRegression(C=0.5, random_state=42)\n"
     ]
    }
   ],
   "source": [
    "from tpot import TPOTClassifier\n",
    "from sklearn.metrics import roc_auc_score\n",
    "\n",
    "tpot = TPOTClassifier(\n",
    "    generations=10,\n",
    "    population_size=20,\n",
    "    verbosity=2,\n",
    "    scoring='roc_auc',\n",
    "    random_state=42,\n",
    "    disable_update_check=True,\n",
    "    config_dict='TPOT light'\n",
    ")\n",
    "tpot.fit(X_train, y_train)\n",
    "\n",
    "# AUC score for tpot model\n",
    "tpot_auc_score = roc_auc_score(y_test, tpot.predict_proba(X_test)[:, 1])\n",
    "print(f'\\nAUC score: {tpot_auc_score:.4f}')\n",
    "\n",
    "# Print best pipeline steps\n",
    "print('\\nBest pipeline steps:', end='\\n')\n",
    "for idx, (name, transform) in enumerate(tpot.fitted_pipeline_.steps, start=1):\n",
    "    # Print idx and transform\n",
    "    print(f'{idx}. {transform}')"
   ]
  }
 ],
 "metadata": {
  "kernelspec": {
   "display_name": "Python 3",
   "language": "python",
   "name": "python3"
  },
  "language_info": {
   "codemirror_mode": {
    "name": "ipython",
    "version": 3
   },
   "file_extension": ".py",
   "mimetype": "text/x-python",
   "name": "python",
   "nbconvert_exporter": "python",
   "pygments_lexer": "ipython3",
   "version": "3.7.9"
  },
  "papermill": {
   "default_parameters": {},
   "duration": 28.519518,
   "end_time": "2021-04-15T13:32:10.910390",
   "environment_variables": {},
   "exception": null,
   "input_path": "__notebook__.ipynb",
   "output_path": "__notebook__.ipynb",
   "parameters": {},
   "start_time": "2021-04-15T13:31:42.390872",
   "version": "2.3.2"
  },
  "widgets": {
   "application/vnd.jupyter.widget-state+json": {
    "state": {
     "0156b81bfa7b4009a3e5f56fb8a17798": {
      "model_module": "@jupyter-widgets/controls",
      "model_module_version": "1.5.0",
      "model_name": "ProgressStyleModel",
      "state": {
       "_model_module": "@jupyter-widgets/controls",
       "_model_module_version": "1.5.0",
       "_model_name": "ProgressStyleModel",
       "_view_count": null,
       "_view_module": "@jupyter-widgets/base",
       "_view_module_version": "1.2.0",
       "_view_name": "StyleView",
       "bar_color": null,
       "description_width": ""
      }
     },
     "1fd6927fe3f54e2fb318aab4413101bf": {
      "model_module": "@jupyter-widgets/controls",
      "model_module_version": "1.5.0",
      "model_name": "DescriptionStyleModel",
      "state": {
       "_model_module": "@jupyter-widgets/controls",
       "_model_module_version": "1.5.0",
       "_model_name": "DescriptionStyleModel",
       "_view_count": null,
       "_view_module": "@jupyter-widgets/base",
       "_view_module_version": "1.2.0",
       "_view_name": "StyleView",
       "description_width": ""
      }
     },
     "8b139ab1ffeb4d44b438bace1cc5e5e5": {
      "model_module": "@jupyter-widgets/controls",
      "model_module_version": "1.5.0",
      "model_name": "HTMLModel",
      "state": {
       "_dom_classes": [],
       "_model_module": "@jupyter-widgets/controls",
       "_model_module_version": "1.5.0",
       "_model_name": "HTMLModel",
       "_view_count": null,
       "_view_module": "@jupyter-widgets/controls",
       "_view_module_version": "1.5.0",
       "_view_name": "HTMLView",
       "description": "",
       "description_tooltip": null,
       "layout": "IPY_MODEL_92ed825168ec4cd2bdf2ca52dd8f6049",
       "placeholder": "​",
       "style": "IPY_MODEL_b38f7ee135c044368fb2a038880710ed",
       "value": "Optimization Progress: 100%"
      }
     },
     "92ed825168ec4cd2bdf2ca52dd8f6049": {
      "model_module": "@jupyter-widgets/base",
      "model_module_version": "1.2.0",
      "model_name": "LayoutModel",
      "state": {
       "_model_module": "@jupyter-widgets/base",
       "_model_module_version": "1.2.0",
       "_model_name": "LayoutModel",
       "_view_count": null,
       "_view_module": "@jupyter-widgets/base",
       "_view_module_version": "1.2.0",
       "_view_name": "LayoutView",
       "align_content": null,
       "align_items": null,
       "align_self": null,
       "border": null,
       "bottom": null,
       "display": null,
       "flex": null,
       "flex_flow": null,
       "grid_area": null,
       "grid_auto_columns": null,
       "grid_auto_flow": null,
       "grid_auto_rows": null,
       "grid_column": null,
       "grid_gap": null,
       "grid_row": null,
       "grid_template_areas": null,
       "grid_template_columns": null,
       "grid_template_rows": null,
       "height": null,
       "justify_content": null,
       "justify_items": null,
       "left": null,
       "margin": null,
       "max_height": null,
       "max_width": null,
       "min_height": null,
       "min_width": null,
       "object_fit": null,
       "object_position": null,
       "order": null,
       "overflow": null,
       "overflow_x": null,
       "overflow_y": null,
       "padding": null,
       "right": null,
       "top": null,
       "visibility": null,
       "width": null
      }
     },
     "b38f7ee135c044368fb2a038880710ed": {
      "model_module": "@jupyter-widgets/controls",
      "model_module_version": "1.5.0",
      "model_name": "DescriptionStyleModel",
      "state": {
       "_model_module": "@jupyter-widgets/controls",
       "_model_module_version": "1.5.0",
       "_model_name": "DescriptionStyleModel",
       "_view_count": null,
       "_view_module": "@jupyter-widgets/base",
       "_view_module_version": "1.2.0",
       "_view_name": "StyleView",
       "description_width": ""
      }
     },
     "ba72822d80b44f98bee556fbf1b69963": {
      "model_module": "@jupyter-widgets/base",
      "model_module_version": "1.2.0",
      "model_name": "LayoutModel",
      "state": {
       "_model_module": "@jupyter-widgets/base",
       "_model_module_version": "1.2.0",
       "_model_name": "LayoutModel",
       "_view_count": null,
       "_view_module": "@jupyter-widgets/base",
       "_view_module_version": "1.2.0",
       "_view_name": "LayoutView",
       "align_content": null,
       "align_items": null,
       "align_self": null,
       "border": null,
       "bottom": null,
       "display": null,
       "flex": null,
       "flex_flow": null,
       "grid_area": null,
       "grid_auto_columns": null,
       "grid_auto_flow": null,
       "grid_auto_rows": null,
       "grid_column": null,
       "grid_gap": null,
       "grid_row": null,
       "grid_template_areas": null,
       "grid_template_columns": null,
       "grid_template_rows": null,
       "height": null,
       "justify_content": null,
       "justify_items": null,
       "left": null,
       "margin": null,
       "max_height": null,
       "max_width": null,
       "min_height": null,
       "min_width": null,
       "object_fit": null,
       "object_position": null,
       "order": null,
       "overflow": null,
       "overflow_x": null,
       "overflow_y": null,
       "padding": null,
       "right": null,
       "top": null,
       "visibility": null,
       "width": null
      }
     },
     "c863892b88bc4a88add85ff76c4111e9": {
      "model_module": "@jupyter-widgets/base",
      "model_module_version": "1.2.0",
      "model_name": "LayoutModel",
      "state": {
       "_model_module": "@jupyter-widgets/base",
       "_model_module_version": "1.2.0",
       "_model_name": "LayoutModel",
       "_view_count": null,
       "_view_module": "@jupyter-widgets/base",
       "_view_module_version": "1.2.0",
       "_view_name": "LayoutView",
       "align_content": null,
       "align_items": null,
       "align_self": null,
       "border": null,
       "bottom": null,
       "display": null,
       "flex": null,
       "flex_flow": null,
       "grid_area": null,
       "grid_auto_columns": null,
       "grid_auto_flow": null,
       "grid_auto_rows": null,
       "grid_column": null,
       "grid_gap": null,
       "grid_row": null,
       "grid_template_areas": null,
       "grid_template_columns": null,
       "grid_template_rows": null,
       "height": null,
       "justify_content": null,
       "justify_items": null,
       "left": null,
       "margin": null,
       "max_height": null,
       "max_width": null,
       "min_height": null,
       "min_width": null,
       "object_fit": null,
       "object_position": null,
       "order": null,
       "overflow": null,
       "overflow_x": null,
       "overflow_y": null,
       "padding": null,
       "right": null,
       "top": null,
       "visibility": null,
       "width": null
      }
     },
     "d35d327ea5374f14b35750570d393139": {
      "model_module": "@jupyter-widgets/base",
      "model_module_version": "1.2.0",
      "model_name": "LayoutModel",
      "state": {
       "_model_module": "@jupyter-widgets/base",
       "_model_module_version": "1.2.0",
       "_model_name": "LayoutModel",
       "_view_count": null,
       "_view_module": "@jupyter-widgets/base",
       "_view_module_version": "1.2.0",
       "_view_name": "LayoutView",
       "align_content": null,
       "align_items": null,
       "align_self": null,
       "border": null,
       "bottom": null,
       "display": null,
       "flex": null,
       "flex_flow": null,
       "grid_area": null,
       "grid_auto_columns": null,
       "grid_auto_flow": null,
       "grid_auto_rows": null,
       "grid_column": null,
       "grid_gap": null,
       "grid_row": null,
       "grid_template_areas": null,
       "grid_template_columns": null,
       "grid_template_rows": null,
       "height": null,
       "justify_content": null,
       "justify_items": null,
       "left": null,
       "margin": null,
       "max_height": null,
       "max_width": null,
       "min_height": null,
       "min_width": null,
       "object_fit": null,
       "object_position": null,
       "order": null,
       "overflow": null,
       "overflow_x": null,
       "overflow_y": null,
       "padding": null,
       "right": null,
       "top": null,
       "visibility": null,
       "width": null
      }
     },
     "d3724cfaabeb45b6836702dd1c65cd59": {
      "model_module": "@jupyter-widgets/controls",
      "model_module_version": "1.5.0",
      "model_name": "HBoxModel",
      "state": {
       "_dom_classes": [],
       "_model_module": "@jupyter-widgets/controls",
       "_model_module_version": "1.5.0",
       "_model_name": "HBoxModel",
       "_view_count": null,
       "_view_module": "@jupyter-widgets/controls",
       "_view_module_version": "1.5.0",
       "_view_name": "HBoxView",
       "box_style": "",
       "children": [
        "IPY_MODEL_8b139ab1ffeb4d44b438bace1cc5e5e5",
        "IPY_MODEL_fce507bc7bb3406db2e13d655c8970d1",
        "IPY_MODEL_e44c3b2a7e554802999021759f1f818c"
       ],
       "layout": "IPY_MODEL_ba72822d80b44f98bee556fbf1b69963"
      }
     },
     "e44c3b2a7e554802999021759f1f818c": {
      "model_module": "@jupyter-widgets/controls",
      "model_module_version": "1.5.0",
      "model_name": "HTMLModel",
      "state": {
       "_dom_classes": [],
       "_model_module": "@jupyter-widgets/controls",
       "_model_module_version": "1.5.0",
       "_model_name": "HTMLModel",
       "_view_count": null,
       "_view_module": "@jupyter-widgets/controls",
       "_view_module_version": "1.5.0",
       "_view_name": "HTMLView",
       "description": "",
       "description_tooltip": null,
       "layout": "IPY_MODEL_c863892b88bc4a88add85ff76c4111e9",
       "placeholder": "​",
       "style": "IPY_MODEL_1fd6927fe3f54e2fb318aab4413101bf",
       "value": " 220/220 [00:17&lt;00:00,  8.34pipeline/s]"
      }
     },
     "fce507bc7bb3406db2e13d655c8970d1": {
      "model_module": "@jupyter-widgets/controls",
      "model_module_version": "1.5.0",
      "model_name": "FloatProgressModel",
      "state": {
       "_dom_classes": [],
       "_model_module": "@jupyter-widgets/controls",
       "_model_module_version": "1.5.0",
       "_model_name": "FloatProgressModel",
       "_view_count": null,
       "_view_module": "@jupyter-widgets/controls",
       "_view_module_version": "1.5.0",
       "_view_name": "ProgressView",
       "bar_style": "",
       "description": "",
       "description_tooltip": null,
       "layout": "IPY_MODEL_d35d327ea5374f14b35750570d393139",
       "max": 220.0,
       "min": 0.0,
       "orientation": "horizontal",
       "style": "IPY_MODEL_0156b81bfa7b4009a3e5f56fb8a17798",
       "value": 220.0
      }
     }
    },
    "version_major": 2,
    "version_minor": 0
   }
  }
 },
 "nbformat": 4,
 "nbformat_minor": 5
}
